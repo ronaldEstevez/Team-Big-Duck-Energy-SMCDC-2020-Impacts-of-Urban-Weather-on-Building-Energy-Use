{
 "cells": [
  {
   "cell_type": "markdown",
   "metadata": {},
   "source": [
    "# Weather Analysis"
   ]
  },
  {
   "cell_type": "code",
   "execution_count": null,
   "metadata": {},
   "outputs": [],
   "source": [
    "import config \n",
    "from datetime import timedelta, date\n",
    "import fetch\n",
    "import folium\n",
    "from keplergl import KeplerGl\n",
    "import pandas as pd"
   ]
  },
  {
   "cell_type": "markdown",
   "metadata": {},
   "source": [
    "## Finding Relevant Weather Data Points"
   ]
  },
  {
   "cell_type": "code",
   "execution_count": null,
   "metadata": {},
   "outputs": [],
   "source": [
    "# Load all distinct coordinates from original weather data\n",
    "OG_weather_points = pd.read_csv('./weather/epvars90m_ChiLoopOnly_2015.Loop.csv', usecols=['lat','lon'], nrows=880)\n",
    "\n",
    "# Initialize map\n",
    "locations = OG_weather_points[['lat', 'lon']].values.tolist()\n",
    "OG_weather_map = folium.Map(locations[len(locations)//2 - 1], zoom_start=14)\n",
    "\n",
    "# Create permimeter around weather points\n",
    "minLat = OG_weather_points.lat.min()\n",
    "maxLat = OG_weather_points.lat.max()\n",
    "minLon = OG_weather_points.lon.min()\n",
    "maxLon = OG_weather_points.lon.max()\n",
    "\n",
    "points = [[minLat, minLon], [minLat, maxLon], [maxLat, minLon], [maxLat, maxLon]]\n",
    "folium.Rectangle(bounds=points, color='#ff7800', fill=True, fill_color='#ffff00', fill_opacity=0.2).add_to(OG_weather_map)\n",
    "folium.Rectangle(bounds=points, color='#ff7800', fill=True, fill_color='#ffff00', fill_opacity=0.2).add_to(OG_weather_map)\n",
    "\n",
    "# Place marker on map for each building \n",
    "buildingsDF = pd.read_csv('./buildings/chi0_90m_coord2bldg_smc.csv')\n",
    "\n",
    "for id, row in buildingsDF.iterrows():\n",
    "    folium.Marker([row['Lat'],row['Lon']],tooltip=row['BLDGID']).add_to(OG_weather_map)\n",
    "\n",
    "OG_weather_map"
   ]
  },
  {
   "cell_type": "code",
   "execution_count": null,
   "metadata": {},
   "outputs": [],
   "source": [
    "# Load in all distinct coordinates in reduced weather dataset\n",
    "reduced_weather_points = pd.read_csv('./weather/weather.csv', usecols=['lat','lon'], nrows=390)\n",
    "\n",
    "# Initialize map\n",
    "reduced_weather_map = folium.Map(locations[len(locations)//2 - 1], zoom_start=14)\n",
    "\n",
    "# Create permimeter around weather points\n",
    "minLat = reduced_weather_points.lat.min()\n",
    "maxLat = reduced_weather_points.lat.max()\n",
    "minLon = reduced_weather_points.lon.min()\n",
    "maxLon = reduced_weather_points.lon.max()\n",
    "\n",
    "points = [[minLat, minLon], [minLat, maxLon], [maxLat, minLon], [maxLat, maxLon]]\n",
    "folium.Rectangle(bounds=points, color='#ff7800', fill=True, fill_color='#ffff00', fill_opacity=0.2).add_to(reduced_weather_map)\n",
    "folium.Rectangle(bounds=points, color='#ff7800', fill=True, fill_color='#ffff00', fill_opacity=0.2).add_to(reduced_weather_map)\n",
    "\n",
    "# Place marker on map for each building\n",
    "for id, row in buildingsDF.iterrows():\n",
    "    folium.Marker([row['Lat'],row['Lon']],tooltip=row['BLDGID']).add_to(reduced_weather_map)\n",
    "\n",
    "reduced_weather_map"
   ]
  },
  {
   "cell_type": "markdown",
   "metadata": {},
   "source": [
    "## Mapping Geographic Variations in Weather Data"
   ]
  },
  {
   "cell_type": "code",
   "execution_count": null,
   "metadata": {},
   "outputs": [],
   "source": [
    "def getDayMap(m,d,var):\n",
    "    '''Function that returns dataframe of weather data after fetching from SQLite database '''\n",
    "    if var[-2] == '-':\n",
    "        var = f'`{var}`'\n",
    "\n",
    "    df = fetch.get_weather(usecols=f'time,lat,lon,{var}', datetime=date(2015,m,d))\n",
    "    df['time'] = df['time'].apply(lambda x: pd.Timestamp(x[:10] + ' ' + x[11:]))\n",
    "\n",
    "    if var == 'temp_K':\n",
    "        df[var] = df[var].apply(lambda x: (x-273)*1.8 +32)\n",
    "        df.rename(columns={var: 'temp_F'})\n",
    "\n",
    "    return df"
   ]
  },
  {
   "cell_type": "markdown",
   "metadata": {},
   "source": [
    "### Displaying Weather Data\n",
    "Click on drop menu on left side of map to reveal map configurations. Toggle visibility of measurement points to display desired measurement. Click on filter option to choose corresponding filter. Press play to start timed visualization. Toggle legend on/off on right side of map."
   ]
  },
  {
   "cell_type": "code",
   "execution_count": null,
   "metadata": {
    "tags": []
   },
   "outputs": [],
   "source": [
    "# day with greatest variance in temperature\n",
    "\n",
    "feb20 = {\n",
    "    'temp_K': None,\n",
    "    'WindSpd_ms-1': None,\n",
    "    'Longwave_Wm-2': None,\n",
    "    'RH_pct': None\n",
    "}\n",
    "\n",
    "for id, key in feb20.items():\n",
    "    feb20[id] = getDayMap(2,20,id)\n",
    "\n",
    "KeplerGl(height=600, data=feb20, config=config.feb20)"
   ]
  },
  {
   "cell_type": "code",
   "execution_count": null,
   "metadata": {
    "tags": []
   },
   "outputs": [],
   "source": [
    "# day with greatest variance in wind speed\n",
    "\n",
    "oct20 = {\n",
    "    'temp_K': None,\n",
    "    'WindSpd_ms-1': None,\n",
    "    'Longwave_Wm-2': None,\n",
    "    'RH_pct': None\n",
    "}\n",
    "\n",
    "for id, key in oct20.items():\n",
    "    oct20[id] = getDayMap(10,20,id)\n",
    "\n",
    "KeplerGl(height=600, data=oct20, config=config.oct20)"
   ]
  },
  {
   "cell_type": "code",
   "execution_count": null,
   "metadata": {
    "tags": []
   },
   "outputs": [],
   "source": [
    "# day with greatest variance in longwave radiation\n",
    "\n",
    "apr10 = {\n",
    "    'temp_K': None,\n",
    "    'WindSpd_ms-1': None,\n",
    "    'Longwave_Wm-2': None,\n",
    "    'RH_pct': None\n",
    "}\n",
    "\n",
    "for id, key in apr10.items():\n",
    "    apr10[id] = getDayMap(4,10,id)\n",
    "\n",
    "KeplerGl(height=600, data=apr10, config=config.apr10)"
   ]
  },
  {
   "cell_type": "code",
   "execution_count": null,
   "metadata": {
    "tags": []
   },
   "outputs": [],
   "source": [
    "# day with greatest variance in relative humidity\n",
    "\n",
    "apr14 = {\n",
    "    'temp_K': None,\n",
    "    'WindSpd_ms-1': None,\n",
    "    'Longwave_Wm-2': None,\n",
    "    'RH_pct': None\n",
    "}\n",
    "\n",
    "for id, key in apr14.items():\n",
    "    apr14[id] = getDayMap(4,14,id)\n",
    "\n",
    "KeplerGl(height=600, data=apr14, config=config.apr14)"
   ]
  }
 ],
 "metadata": {
  "kernelspec": {
   "display_name": "Python 3.8.2 64-bit",
   "language": "python",
   "name": "python38264bitd8f3ef187eea49fdb788ec07ab3ef776"
  },
  "language_info": {
   "codemirror_mode": {
    "name": "ipython",
    "version": 3
   },
   "file_extension": ".py",
   "mimetype": "text/x-python",
   "name": "python",
   "nbconvert_exporter": "python",
   "pygments_lexer": "ipython3",
   "version": "3.8.2-final"
  }
 },
 "nbformat": 4,
 "nbformat_minor": 2
}