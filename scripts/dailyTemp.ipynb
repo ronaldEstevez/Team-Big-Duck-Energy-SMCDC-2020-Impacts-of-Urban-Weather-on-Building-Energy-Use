{
 "cells": [
  {
   "cell_type": "code",
   "execution_count": 1,
   "metadata": {},
   "outputs": [],
   "source": [
    "# The Macro Impacts of Micro-Climates on the Energy Consumption of Urban Buildings\n",
    "from config import dailyTemp\n",
    "from datetime import timedelta, date\n",
    "import fetch\n",
    "from keplergl import KeplerGl\n",
    "import pandas as pd"
   ]
  },
  {
   "cell_type": "code",
   "execution_count": 2,
   "metadata": {},
   "outputs": [
    {
     "output_type": "execute_result",
     "data": {
      "text/plain": "                 std        var        avg        min        max\n2015-07-01  2.621077   6.870045  64.032618  56.235499  71.977534\n2015-05-01  4.788835  22.932945  54.572467  48.173457  62.881349\n2015-01-01  4.976629  24.766833  26.027517  21.594288  35.688099\n2015-03-01  2.299602   5.288170  26.190627  22.206171  32.664663\n2015-11-01  5.429224  29.476470  60.054164  54.644459  69.693696\n...              ...        ...        ...        ...        ...\n2015-12-24  7.589866  57.606059  53.168745  39.333747  61.496083\n2015-10-24  8.155466  66.511626  55.999041  34.242024  66.719917\n2015-02-24  7.595418  57.690374  -8.637581 -27.687825  15.550214\n2015-10-25  3.675358  13.508254  32.933588  26.899970  44.886403\n2015-02-28  3.963956  15.712948  18.068264  -0.927602  23.626539\n\n[254 rows x 5 columns]",
      "text/html": "<div>\n<style scoped>\n    .dataframe tbody tr th:only-of-type {\n        vertical-align: middle;\n    }\n\n    .dataframe tbody tr th {\n        vertical-align: top;\n    }\n\n    .dataframe thead th {\n        text-align: right;\n    }\n</style>\n<table border=\"1\" class=\"dataframe\">\n  <thead>\n    <tr style=\"text-align: right;\">\n      <th></th>\n      <th>std</th>\n      <th>var</th>\n      <th>avg</th>\n      <th>min</th>\n      <th>max</th>\n    </tr>\n  </thead>\n  <tbody>\n    <tr>\n      <th>2015-07-01</th>\n      <td>2.621077</td>\n      <td>6.870045</td>\n      <td>64.032618</td>\n      <td>56.235499</td>\n      <td>71.977534</td>\n    </tr>\n    <tr>\n      <th>2015-05-01</th>\n      <td>4.788835</td>\n      <td>22.932945</td>\n      <td>54.572467</td>\n      <td>48.173457</td>\n      <td>62.881349</td>\n    </tr>\n    <tr>\n      <th>2015-01-01</th>\n      <td>4.976629</td>\n      <td>24.766833</td>\n      <td>26.027517</td>\n      <td>21.594288</td>\n      <td>35.688099</td>\n    </tr>\n    <tr>\n      <th>2015-03-01</th>\n      <td>2.299602</td>\n      <td>5.288170</td>\n      <td>26.190627</td>\n      <td>22.206171</td>\n      <td>32.664663</td>\n    </tr>\n    <tr>\n      <th>2015-11-01</th>\n      <td>5.429224</td>\n      <td>29.476470</td>\n      <td>60.054164</td>\n      <td>54.644459</td>\n      <td>69.693696</td>\n    </tr>\n    <tr>\n      <th>...</th>\n      <td>...</td>\n      <td>...</td>\n      <td>...</td>\n      <td>...</td>\n      <td>...</td>\n    </tr>\n    <tr>\n      <th>2015-12-24</th>\n      <td>7.589866</td>\n      <td>57.606059</td>\n      <td>53.168745</td>\n      <td>39.333747</td>\n      <td>61.496083</td>\n    </tr>\n    <tr>\n      <th>2015-10-24</th>\n      <td>8.155466</td>\n      <td>66.511626</td>\n      <td>55.999041</td>\n      <td>34.242024</td>\n      <td>66.719917</td>\n    </tr>\n    <tr>\n      <th>2015-02-24</th>\n      <td>7.595418</td>\n      <td>57.690374</td>\n      <td>-8.637581</td>\n      <td>-27.687825</td>\n      <td>15.550214</td>\n    </tr>\n    <tr>\n      <th>2015-10-25</th>\n      <td>3.675358</td>\n      <td>13.508254</td>\n      <td>32.933588</td>\n      <td>26.899970</td>\n      <td>44.886403</td>\n    </tr>\n    <tr>\n      <th>2015-02-28</th>\n      <td>3.963956</td>\n      <td>15.712948</td>\n      <td>18.068264</td>\n      <td>-0.927602</td>\n      <td>23.626539</td>\n    </tr>\n  </tbody>\n</table>\n<p>254 rows × 5 columns</p>\n</div>"
     },
     "metadata": {},
     "execution_count": 2
    }
   ],
   "source": [
    "weatherStats = pd.read_json('../processed_data/temp_K_stats/F.json', orient='index')\n",
    "weatherStats"
   ]
  },
  {
   "cell_type": "code",
   "execution_count": 3,
   "metadata": {},
   "outputs": [
    {
     "output_type": "execute_result",
     "data": {
      "text/plain": "                  std         var        avg        min        max\n2015-10-19  17.685308  312.770124  47.392338   1.915522  70.855227\n2015-02-20  15.848403  251.171887 -12.046808 -40.604616  14.382203\n2015-01-31  15.442605  238.474034   5.673800 -31.844778  33.141524\n2015-12-20  14.789917  218.741642  29.427599  -3.628370  50.821657\n2015-04-09  14.531061  211.151741  55.817255  29.754000  78.098731",
      "text/html": "<div>\n<style scoped>\n    .dataframe tbody tr th:only-of-type {\n        vertical-align: middle;\n    }\n\n    .dataframe tbody tr th {\n        vertical-align: top;\n    }\n\n    .dataframe thead th {\n        text-align: right;\n    }\n</style>\n<table border=\"1\" class=\"dataframe\">\n  <thead>\n    <tr style=\"text-align: right;\">\n      <th></th>\n      <th>std</th>\n      <th>var</th>\n      <th>avg</th>\n      <th>min</th>\n      <th>max</th>\n    </tr>\n  </thead>\n  <tbody>\n    <tr>\n      <th>2015-10-19</th>\n      <td>17.685308</td>\n      <td>312.770124</td>\n      <td>47.392338</td>\n      <td>1.915522</td>\n      <td>70.855227</td>\n    </tr>\n    <tr>\n      <th>2015-02-20</th>\n      <td>15.848403</td>\n      <td>251.171887</td>\n      <td>-12.046808</td>\n      <td>-40.604616</td>\n      <td>14.382203</td>\n    </tr>\n    <tr>\n      <th>2015-01-31</th>\n      <td>15.442605</td>\n      <td>238.474034</td>\n      <td>5.673800</td>\n      <td>-31.844778</td>\n      <td>33.141524</td>\n    </tr>\n    <tr>\n      <th>2015-12-20</th>\n      <td>14.789917</td>\n      <td>218.741642</td>\n      <td>29.427599</td>\n      <td>-3.628370</td>\n      <td>50.821657</td>\n    </tr>\n    <tr>\n      <th>2015-04-09</th>\n      <td>14.531061</td>\n      <td>211.151741</td>\n      <td>55.817255</td>\n      <td>29.754000</td>\n      <td>78.098731</td>\n    </tr>\n  </tbody>\n</table>\n</div>"
     },
     "metadata": {},
     "execution_count": 3
    }
   ],
   "source": [
    "weatherStats.sort_values(by=['var'], ascending=False, inplace=True)\n",
    "\n",
    "weatherStats.head()"
   ]
  },
  {
   "cell_type": "code",
   "execution_count": 5,
   "metadata": {},
   "outputs": [],
   "source": [
    "def getDayMap(m,d):\n",
    "    df = fetch.get_weather(usecols='time,lat,lon,temp_K', datetime=date(2015,m,d))\n",
    "    df['time'] = df['time'].apply(lambda x: pd.Timestamp(x[:10] + ' ' + x[11:]))\n",
    "    df['temp_K'] = df['temp_K'].apply(lambda x: (x-273)*1.8 +32)\n",
    "\n",
    "    return KeplerGl(height=600,data={'day': df}, config=dailyTemp)\n"
   ]
  },
  {
   "cell_type": "code",
   "execution_count": 6,
   "metadata": {
    "tags": []
   },
   "outputs": [
    {
     "output_type": "stream",
     "name": "stdout",
     "text": "User Guide: https://docs.kepler.gl/docs/keplergl-jupyter\n"
    },
    {
     "output_type": "display_data",
     "data": {
      "text/plain": "KeplerGl(config={'version': 'v1', 'config': {'visState': {'filters': [{'dataId': ['day'], 'id': 'fja631mn9', '…",
      "application/vnd.jupyter.widget-view+json": {
       "version_major": 2,
       "version_minor": 0,
       "model_id": "f6f9ddb1685a448492ac5393c58dd8c2"
      }
     },
     "metadata": {}
    }
   ],
   "source": [
    "oct19 = getDayMap(10,19)\n",
    "\n",
    "oct19"
   ]
  },
  {
   "cell_type": "code",
   "execution_count": 7,
   "metadata": {
    "tags": []
   },
   "outputs": [
    {
     "output_type": "stream",
     "name": "stdout",
     "text": "User Guide: https://docs.kepler.gl/docs/keplergl-jupyter\n"
    },
    {
     "output_type": "display_data",
     "data": {
      "text/plain": "KeplerGl(config={'version': 'v1', 'config': {'visState': {'filters': [{'dataId': ['day'], 'id': 'fja631mn9', '…",
      "application/vnd.jupyter.widget-view+json": {
       "version_major": 2,
       "version_minor": 0,
       "model_id": "dfdcc1836e5446e098b90ea41515bcfc"
      }
     },
     "metadata": {}
    }
   ],
   "source": [
    "feb20 = getDayMap(2,20)\n",
    "\n",
    "feb20"
   ]
  },
  {
   "cell_type": "code",
   "execution_count": 8,
   "metadata": {
    "tags": []
   },
   "outputs": [
    {
     "output_type": "stream",
     "name": "stdout",
     "text": "User Guide: https://docs.kepler.gl/docs/keplergl-jupyter\n"
    },
    {
     "output_type": "display_data",
     "data": {
      "text/plain": "KeplerGl(config={'version': 'v1', 'config': {'visState': {'filters': [{'dataId': ['day'], 'id': 'fja631mn9', '…",
      "application/vnd.jupyter.widget-view+json": {
       "version_major": 2,
       "version_minor": 0,
       "model_id": "2bfa15ee89d2439fbfadd0200956a0dc"
      }
     },
     "metadata": {}
    }
   ],
   "source": [
    "jan31 = getDayMap(1,31)\n",
    "\n",
    "jan31"
   ]
  },
  {
   "cell_type": "code",
   "execution_count": 9,
   "metadata": {
    "tags": []
   },
   "outputs": [
    {
     "output_type": "stream",
     "name": "stdout",
     "text": "User Guide: https://docs.kepler.gl/docs/keplergl-jupyter\n"
    },
    {
     "output_type": "display_data",
     "data": {
      "text/plain": "KeplerGl(config={'version': 'v1', 'config': {'visState': {'filters': [{'dataId': ['day'], 'id': 'fja631mn9', '…",
      "application/vnd.jupyter.widget-view+json": {
       "version_major": 2,
       "version_minor": 0,
       "model_id": "d6e0a284330c4e9bbcb63abb0009f2b6"
      }
     },
     "metadata": {}
    }
   ],
   "source": [
    "dec20 = getDayMap(12,20)\n",
    "\n",
    "dec20"
   ]
  },
  {
   "cell_type": "code",
   "execution_count": 10,
   "metadata": {
    "tags": []
   },
   "outputs": [
    {
     "output_type": "stream",
     "name": "stdout",
     "text": "User Guide: https://docs.kepler.gl/docs/keplergl-jupyter\n"
    },
    {
     "output_type": "display_data",
     "data": {
      "text/plain": "KeplerGl(config={'version': 'v1', 'config': {'visState': {'filters': [{'dataId': ['day'], 'id': 'fja631mn9', '…",
      "application/vnd.jupyter.widget-view+json": {
       "version_major": 2,
       "version_minor": 0,
       "model_id": "d9d5117d4f93411db7976e1e4e60dc43"
      }
     },
     "metadata": {}
    }
   ],
   "source": [
    "apr9 = getDayMap(4,9)\n",
    "\n",
    "apr9"
   ]
  }
 ],
 "metadata": {
  "language_info": {
   "codemirror_mode": {
    "name": "ipython",
    "version": 3
   },
   "file_extension": ".py",
   "mimetype": "text/x-python",
   "name": "python",
   "nbconvert_exporter": "python",
   "pygments_lexer": "ipython3",
   "version": "3.8.2-final"
  },
  "orig_nbformat": 2,
  "kernelspec": {
   "name": "python38264bitd8f3ef187eea49fdb788ec07ab3ef776",
   "display_name": "Python 3.8.2 64-bit"
  }
 },
 "nbformat": 4,
 "nbformat_minor": 2
}