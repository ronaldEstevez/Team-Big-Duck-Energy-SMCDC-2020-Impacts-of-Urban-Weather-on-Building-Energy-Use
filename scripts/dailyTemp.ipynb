{
 "cells": [
  {
   "cell_type": "code",
   "execution_count": 1,
   "metadata": {},
   "outputs": [],
   "source": [
    "from config import dailyTemp\n",
    "from datetime import timedelta, date\n",
    "import fetch\n",
    "from keplergl import KeplerGl\n",
    "import pandas as pd"
   ]
  },
  {
   "cell_type": "code",
   "execution_count": 2,
   "metadata": {},
   "outputs": [
    {
     "output_type": "execute_result",
     "data": {
      "text/plain": "                  std         var        avg        min        max\n2015-10-19  17.685308  312.770124  47.392338   1.915522  70.855227\n2015-02-20  15.848403  251.171887 -12.046808 -40.604616  14.382203\n2015-01-31  15.442605  238.474034   5.673800 -31.844778  33.141524\n2015-12-20  14.789917  218.741642  29.427599  -3.628370  50.821657\n2015-04-09  14.531061  211.151741  55.817255  29.754000  78.098731",
      "text/html": "<div>\n<style scoped>\n    .dataframe tbody tr th:only-of-type {\n        vertical-align: middle;\n    }\n\n    .dataframe tbody tr th {\n        vertical-align: top;\n    }\n\n    .dataframe thead th {\n        text-align: right;\n    }\n</style>\n<table border=\"1\" class=\"dataframe\">\n  <thead>\n    <tr style=\"text-align: right;\">\n      <th></th>\n      <th>std</th>\n      <th>var</th>\n      <th>avg</th>\n      <th>min</th>\n      <th>max</th>\n    </tr>\n  </thead>\n  <tbody>\n    <tr>\n      <th>2015-10-19</th>\n      <td>17.685308</td>\n      <td>312.770124</td>\n      <td>47.392338</td>\n      <td>1.915522</td>\n      <td>70.855227</td>\n    </tr>\n    <tr>\n      <th>2015-02-20</th>\n      <td>15.848403</td>\n      <td>251.171887</td>\n      <td>-12.046808</td>\n      <td>-40.604616</td>\n      <td>14.382203</td>\n    </tr>\n    <tr>\n      <th>2015-01-31</th>\n      <td>15.442605</td>\n      <td>238.474034</td>\n      <td>5.673800</td>\n      <td>-31.844778</td>\n      <td>33.141524</td>\n    </tr>\n    <tr>\n      <th>2015-12-20</th>\n      <td>14.789917</td>\n      <td>218.741642</td>\n      <td>29.427599</td>\n      <td>-3.628370</td>\n      <td>50.821657</td>\n    </tr>\n    <tr>\n      <th>2015-04-09</th>\n      <td>14.531061</td>\n      <td>211.151741</td>\n      <td>55.817255</td>\n      <td>29.754000</td>\n      <td>78.098731</td>\n    </tr>\n  </tbody>\n</table>\n</div>"
     },
     "metadata": {},
     "execution_count": 2
    }
   ],
   "source": [
    "weatherStats = pd.read_json('../processed_data/temp_K_stats/F.json', orient='index')\n",
    "weatherStats.sort_values(by=['var'], ascending=False, inplace=True)\n",
    "\n",
    "weatherStats.head()"
   ]
  },
  {
   "cell_type": "code",
   "execution_count": 3,
   "metadata": {},
   "outputs": [],
   "source": [
    "def getDayMap(m,d):\n",
    "    df = fetch.get_weather(usecols='time,lat,lon,temp_K', datetime=date(2015,m,d))\n",
    "    df['time'] = df['time'].apply(lambda x: pd.Timestamp(x[:10] + ' ' + x[11:]))\n",
    "    df['temp_K'] = df['temp_K'].apply(lambda x: (x-273)*1.8 +32)\n",
    "    df.rename(columns={'temp_K': 'temp_F'}, inplace=True)\n",
    "\n",
    "    return KeplerGl(height=600,data={'day': df}, config=dailyTemp)"
   ]
  },
  {
   "cell_type": "code",
   "execution_count": 4,
   "metadata": {
    "tags": []
   },
   "outputs": [
    {
     "output_type": "stream",
     "name": "stdout",
     "text": "User Guide: https://docs.kepler.gl/docs/keplergl-jupyter\n"
    },
    {
     "output_type": "display_data",
     "data": {
      "text/plain": "KeplerGl(config={'version': 'v1', 'config': {'visState': {'filters': [{'dataId': ['day'], 'id': 'fja631mn9', '…",
      "application/vnd.jupyter.widget-view+json": {
       "version_major": 2,
       "version_minor": 0,
       "model_id": "0a32f617d88c4436af7eb0bf0781ef12"
      }
     },
     "metadata": {}
    }
   ],
   "source": [
    "oct19 = getDayMap(10,19)\n",
    "\n",
    "oct19"
   ]
  },
  {
   "cell_type": "code",
   "execution_count": 5,
   "metadata": {
    "tags": []
   },
   "outputs": [
    {
     "output_type": "stream",
     "name": "stdout",
     "text": "User Guide: https://docs.kepler.gl/docs/keplergl-jupyter\n"
    },
    {
     "output_type": "display_data",
     "data": {
      "text/plain": "KeplerGl(config={'version': 'v1', 'config': {'visState': {'filters': [{'dataId': ['day'], 'id': 'fja631mn9', '…",
      "application/vnd.jupyter.widget-view+json": {
       "version_major": 2,
       "version_minor": 0,
       "model_id": "7f4e561def3f40b28019f99712f0df9e"
      }
     },
     "metadata": {}
    }
   ],
   "source": [
    "# interesting\n",
    "feb20 = getDayMap(2,20)\n",
    "\n",
    "feb20"
   ]
  },
  {
   "cell_type": "code",
   "execution_count": 6,
   "metadata": {
    "tags": []
   },
   "outputs": [
    {
     "output_type": "stream",
     "name": "stdout",
     "text": "User Guide: https://docs.kepler.gl/docs/keplergl-jupyter\n"
    },
    {
     "output_type": "display_data",
     "data": {
      "text/plain": "KeplerGl(config={'version': 'v1', 'config': {'visState': {'filters': [{'dataId': ['day'], 'id': 'fja631mn9', '…",
      "application/vnd.jupyter.widget-view+json": {
       "version_major": 2,
       "version_minor": 0,
       "model_id": "4c95e2bf7b0d4ba2b404b2a7360161f9"
      }
     },
     "metadata": {}
    }
   ],
   "source": [
    "jan31 = getDayMap(1,31)\n",
    "\n",
    "jan31"
   ]
  },
  {
   "cell_type": "code",
   "execution_count": 7,
   "metadata": {
    "tags": []
   },
   "outputs": [
    {
     "output_type": "stream",
     "name": "stdout",
     "text": "User Guide: https://docs.kepler.gl/docs/keplergl-jupyter\n"
    },
    {
     "output_type": "display_data",
     "data": {
      "text/plain": "KeplerGl(config={'version': 'v1', 'config': {'visState': {'filters': [{'dataId': ['day'], 'id': 'fja631mn9', '…",
      "application/vnd.jupyter.widget-view+json": {
       "version_major": 2,
       "version_minor": 0,
       "model_id": "bfcc2eaa9019402689d6818f2d3ea563"
      }
     },
     "metadata": {}
    }
   ],
   "source": [
    "dec20 = getDayMap(12,20)\n",
    "\n",
    "dec20"
   ]
  },
  {
   "cell_type": "code",
   "execution_count": 8,
   "metadata": {
    "tags": []
   },
   "outputs": [
    {
     "output_type": "stream",
     "name": "stdout",
     "text": "User Guide: https://docs.kepler.gl/docs/keplergl-jupyter\n"
    },
    {
     "output_type": "display_data",
     "data": {
      "text/plain": "KeplerGl(config={'version': 'v1', 'config': {'visState': {'filters': [{'dataId': ['day'], 'id': 'fja631mn9', '…",
      "application/vnd.jupyter.widget-view+json": {
       "version_major": 2,
       "version_minor": 0,
       "model_id": "cee438969348415191c05095bbed4de7"
      }
     },
     "metadata": {}
    }
   ],
   "source": [
    "# interesting\n",
    "apr9 = getDayMap(4,9)\n",
    "\n",
    "apr9"
   ]
  }
 ],
 "metadata": {
  "language_info": {
   "codemirror_mode": {
    "name": "ipython",
    "version": 3
   },
   "file_extension": ".py",
   "mimetype": "text/x-python",
   "name": "python",
   "nbconvert_exporter": "python",
   "pygments_lexer": "ipython3",
   "version": "3.8.2-final"
  },
  "orig_nbformat": 2,
  "kernelspec": {
   "name": "python38264bitd8f3ef187eea49fdb788ec07ab3ef776",
   "display_name": "Python 3.8.2 64-bit"
  }
 },
 "nbformat": 4,
 "nbformat_minor": 2
}