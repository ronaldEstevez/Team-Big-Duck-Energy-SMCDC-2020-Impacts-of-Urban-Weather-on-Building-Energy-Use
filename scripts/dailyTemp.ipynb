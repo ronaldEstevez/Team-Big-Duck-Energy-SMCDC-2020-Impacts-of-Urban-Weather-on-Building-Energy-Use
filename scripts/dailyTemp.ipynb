{
 "cells": [
  {
   "cell_type": "code",
   "execution_count": 1,
   "metadata": {},
   "outputs": [],
   "source": [
    "from datetime import timedelta, date\n",
    "import fetch\n",
    "from keplergl import KeplerGl\n",
    "import pandas as pd\n",
    "import sqlite3"
   ]
  },
  {
   "cell_type": "code",
   "execution_count": 2,
   "metadata": {},
   "outputs": [],
   "source": [
    "def getMonth(curr_month):\n",
    "    month = fetch.get_weather(usecols='time,lat,lon,avg(temp_K)', datetime=date(2015,curr_month, 1), groupBy='lat,lon')\n",
    "    conn = sqlite3.connect('../database/database.db')\n",
    "    if curr_month == 12:\n",
    "        monthlen = (date(2016, 1, 1) - date(2015, curr_month, 1)).days - 1\n",
    "    else:\n",
    "        monthlen = (date(2015, curr_month + 1, 1) - date(2015, curr_month, 1)).days -1\n",
    "\n",
    "    for currDay in (date(2015,curr_month, 2) + timedelta(n) for n in range(monthlen)):\n",
    "        df = fetch.get_weather(usecols='time, lat, lon, avg(temp_K)', datetime=currDay, groupBy='lat, lon', conn=conn)\n",
    "        if not df.empty:\n",
    "            month = pd.concat([month, df], ignore_index=True)\n",
    "            \n",
    "    month['time'] = month['time'].apply(lambda x: pd.Timestamp(x[:10] + ' ' + x[11:]))\n",
    "\n",
    "    conn.close()\n",
    "\n",
    "    return month"
   ]
  },
  {
   "cell_type": "code",
   "execution_count": 3,
   "metadata": {},
   "outputs": [],
   "source": [
    "months = [None]\n",
    "\n",
    "for i in range(1, 13):\n",
    "    months.append(getMonth(i))"
   ]
  },
  {
   "cell_type": "code",
   "execution_count": 7,
   "metadata": {},
   "outputs": [],
   "source": [
    "%run config.py"
   ]
  },
  {
   "cell_type": "code",
   "execution_count": 20,
   "metadata": {
    "tags": []
   },
   "outputs": [
    {
     "output_type": "stream",
     "name": "stdout",
     "text": "User Guide: https://docs.kepler.gl/docs/keplergl-jupyter\n"
    }
   ],
   "source": [
    "monthlyMap = KeplerGl(height=600,data={'month': months[1]}, config=dailyAvgTemp)"
   ]
  },
  {
   "cell_type": "code",
   "execution_count": 19,
   "metadata": {
    "tags": []
   },
   "outputs": [],
   "source": [
    "day = fetch.get_weather(usecols='time,lat,lon,temp_K', datetime=date(2015,6,22))\n",
    "day['time'] = day['time'].apply(lambda x: pd.Timestamp(x[:10] + ' ' + x[11:]))\n",
    "day['temp_K'] = day['temp_K'].apply(lambda x: (x-273)*1.8 +32)\n",
    "\n",
    "# The Macro Impacts of Micro-Climates on the Energy Consumption of Urban Buildings"
   ]
  },
  {
   "cell_type": "code",
   "execution_count": null,
   "metadata": {},
   "outputs": [],
   "source": [
    "dailyMap = KeplerGl(height=600,data={'day': day}, config=dailyTemp)\n",
    "dailyMap"
   ]
  }
 ],
 "metadata": {
  "language_info": {
   "codemirror_mode": {
    "name": "ipython",
    "version": 3
   },
   "file_extension": ".py",
   "mimetype": "text/x-python",
   "name": "python",
   "nbconvert_exporter": "python",
   "pygments_lexer": "ipython3",
   "version": "3.8.2-final"
  },
  "orig_nbformat": 2,
  "kernelspec": {
   "name": "python38264bitd8f3ef187eea49fdb788ec07ab3ef776",
   "display_name": "Python 3.8.2 64-bit"
  }
 },
 "nbformat": 4,
 "nbformat_minor": 2
}