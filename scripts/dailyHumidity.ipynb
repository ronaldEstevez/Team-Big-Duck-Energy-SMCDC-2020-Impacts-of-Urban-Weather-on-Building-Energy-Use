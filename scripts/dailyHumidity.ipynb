{
 "cells": [
  {
   "cell_type": "code",
   "execution_count": 1,
   "metadata": {},
   "outputs": [],
   "source": [
    "from config import dailyHumidity\n",
    "from datetime import timedelta, date\n",
    "import fetch\n",
    "from keplergl import KeplerGl\n",
    "import pandas as pd"
   ]
  },
  {
   "cell_type": "code",
   "execution_count": 2,
   "metadata": {},
   "outputs": [],
   "source": [
    "var = 'RH_pct'"
   ]
  },
  {
   "cell_type": "code",
   "execution_count": 3,
   "metadata": {},
   "outputs": [
    {
     "output_type": "execute_result",
     "data": {
      "text/plain": "                  std         var        avg        min         max\n2015-10-15  29.186870  851.873391  61.556090  24.445736   99.540131\n2015-04-04  27.381527  749.747997  52.510959  21.771599  100.000000\n2015-10-19  27.197739  739.716990  53.123753  30.950502  100.000000\n2015-06-08  27.030062  730.624252  69.656469  30.048819  100.000000\n2015-12-18  26.410517  697.515391  73.554340  33.624470  100.000000",
      "text/html": "<div>\n<style scoped>\n    .dataframe tbody tr th:only-of-type {\n        vertical-align: middle;\n    }\n\n    .dataframe tbody tr th {\n        vertical-align: top;\n    }\n\n    .dataframe thead th {\n        text-align: right;\n    }\n</style>\n<table border=\"1\" class=\"dataframe\">\n  <thead>\n    <tr style=\"text-align: right;\">\n      <th></th>\n      <th>std</th>\n      <th>var</th>\n      <th>avg</th>\n      <th>min</th>\n      <th>max</th>\n    </tr>\n  </thead>\n  <tbody>\n    <tr>\n      <th>2015-10-15</th>\n      <td>29.186870</td>\n      <td>851.873391</td>\n      <td>61.556090</td>\n      <td>24.445736</td>\n      <td>99.540131</td>\n    </tr>\n    <tr>\n      <th>2015-04-04</th>\n      <td>27.381527</td>\n      <td>749.747997</td>\n      <td>52.510959</td>\n      <td>21.771599</td>\n      <td>100.000000</td>\n    </tr>\n    <tr>\n      <th>2015-10-19</th>\n      <td>27.197739</td>\n      <td>739.716990</td>\n      <td>53.123753</td>\n      <td>30.950502</td>\n      <td>100.000000</td>\n    </tr>\n    <tr>\n      <th>2015-06-08</th>\n      <td>27.030062</td>\n      <td>730.624252</td>\n      <td>69.656469</td>\n      <td>30.048819</td>\n      <td>100.000000</td>\n    </tr>\n    <tr>\n      <th>2015-12-18</th>\n      <td>26.410517</td>\n      <td>697.515391</td>\n      <td>73.554340</td>\n      <td>33.624470</td>\n      <td>100.000000</td>\n    </tr>\n  </tbody>\n</table>\n</div>"
     },
     "metadata": {},
     "execution_count": 3
    }
   ],
   "source": [
    "weatherStats = pd.read_json(f\"../processed_data/{var}_stats/{var[var.index('_')+1:]}.json\", orient='index')\n",
    "weatherStats.sort_values(by=['var'], ascending=False, inplace=True)\n",
    "\n",
    "weatherStats.head()"
   ]
  },
  {
   "cell_type": "code",
   "execution_count": 4,
   "metadata": {},
   "outputs": [],
   "source": [
    "def getDayMap(m,d):\n",
    "    df = fetch.get_weather(usecols=f'time,lat,lon,{var}', datetime=date(2015,m,d))\n",
    "    df['time'] = df['time'].apply(lambda x: pd.Timestamp(x[:10] + ' ' + x[11:]))\n",
    "\n",
    "    return KeplerGl(height=600, data={'day': df}, config=dailyHumidity)\n"
   ]
  },
  {
   "cell_type": "code",
   "execution_count": 5,
   "metadata": {
    "tags": []
   },
   "outputs": [
    {
     "output_type": "stream",
     "name": "stdout",
     "text": "User Guide: https://docs.kepler.gl/docs/keplergl-jupyter\n"
    },
    {
     "output_type": "display_data",
     "data": {
      "text/plain": "KeplerGl(config={'version': 'v1', 'config': {'visState': {'filters': [{'dataId': ['day'], 'id': '8ameo1nc', 'n…",
      "application/vnd.jupyter.widget-view+json": {
       "version_major": 2,
       "version_minor": 0,
       "model_id": "7965605c74de4b9c9da837fbec3899f8"
      }
     },
     "metadata": {}
    }
   ],
   "source": [
    "oct15 = getDayMap(10,15)\n",
    "\n",
    "oct15"
   ]
  },
  {
   "cell_type": "code",
   "execution_count": 6,
   "metadata": {
    "tags": []
   },
   "outputs": [
    {
     "output_type": "stream",
     "name": "stdout",
     "text": "User Guide: https://docs.kepler.gl/docs/keplergl-jupyter\n"
    },
    {
     "output_type": "display_data",
     "data": {
      "text/plain": "KeplerGl(config={'version': 'v1', 'config': {'visState': {'filters': [{'dataId': ['day'], 'id': '8ameo1nc', 'n…",
      "application/vnd.jupyter.widget-view+json": {
       "version_major": 2,
       "version_minor": 0,
       "model_id": "71ce4250b3f345eab89dcc79f864faf0"
      }
     },
     "metadata": {}
    }
   ],
   "source": [
    "apr14 = getDayMap(4,14)\n",
    "\n",
    "apr14"
   ]
  },
  {
   "cell_type": "code",
   "execution_count": 7,
   "metadata": {
    "tags": []
   },
   "outputs": [
    {
     "output_type": "stream",
     "name": "stdout",
     "text": "User Guide: https://docs.kepler.gl/docs/keplergl-jupyter\n"
    },
    {
     "output_type": "display_data",
     "data": {
      "text/plain": "KeplerGl(config={'version': 'v1', 'config': {'visState': {'filters': [{'dataId': ['day'], 'id': '8ameo1nc', 'n…",
      "application/vnd.jupyter.widget-view+json": {
       "version_major": 2,
       "version_minor": 0,
       "model_id": "b90dd9aec3b14af399febb062a296967"
      }
     },
     "metadata": {}
    }
   ],
   "source": [
    "oct19 = getDayMap(10,19)\n",
    "\n",
    "oct19"
   ]
  },
  {
   "cell_type": "code",
   "execution_count": 8,
   "metadata": {
    "tags": []
   },
   "outputs": [
    {
     "output_type": "stream",
     "name": "stdout",
     "text": "User Guide: https://docs.kepler.gl/docs/keplergl-jupyter\n"
    },
    {
     "output_type": "display_data",
     "data": {
      "text/plain": "KeplerGl(config={'version': 'v1', 'config': {'visState': {'filters': [{'dataId': ['day'], 'id': '8ameo1nc', 'n…",
      "application/vnd.jupyter.widget-view+json": {
       "version_major": 2,
       "version_minor": 0,
       "model_id": "e2c8418f8be84b91824fa4ec86113438"
      }
     },
     "metadata": {}
    }
   ],
   "source": [
    "jun18 = getDayMap(6,18)\n",
    "\n",
    "jun18"
   ]
  },
  {
   "cell_type": "code",
   "execution_count": 9,
   "metadata": {
    "tags": []
   },
   "outputs": [
    {
     "output_type": "stream",
     "name": "stdout",
     "text": "User Guide: https://docs.kepler.gl/docs/keplergl-jupyter\n"
    },
    {
     "output_type": "display_data",
     "data": {
      "text/plain": "KeplerGl(config={'version': 'v1', 'config': {'visState': {'filters': [{'dataId': ['day'], 'id': '8ameo1nc', 'n…",
      "application/vnd.jupyter.widget-view+json": {
       "version_major": 2,
       "version_minor": 0,
       "model_id": "dcfa4b58d4ff45d18e2b49a8aeb3890e"
      }
     },
     "metadata": {}
    }
   ],
   "source": [
    "dec18 = getDayMap(12,18)\n",
    "\n",
    "dec18"
   ]
  }
 ],
 "metadata": {
  "language_info": {
   "codemirror_mode": {
    "name": "ipython",
    "version": 3
   },
   "file_extension": ".py",
   "mimetype": "text/x-python",
   "name": "python",
   "nbconvert_exporter": "python",
   "pygments_lexer": "ipython3",
   "version": "3.8.2-final"
  },
  "orig_nbformat": 2,
  "kernelspec": {
   "name": "python38264bitd8f3ef187eea49fdb788ec07ab3ef776",
   "display_name": "Python 3.8.2 64-bit"
  }
 },
 "nbformat": 4,
 "nbformat_minor": 2
}