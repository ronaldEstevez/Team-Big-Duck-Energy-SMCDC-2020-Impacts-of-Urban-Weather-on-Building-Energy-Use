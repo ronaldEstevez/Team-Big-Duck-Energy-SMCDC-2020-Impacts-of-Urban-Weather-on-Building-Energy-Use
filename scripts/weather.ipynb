{
 "cells": [
  {
   "cell_type": "code",
   "execution_count": null,
   "metadata": {},
   "outputs": [],
   "source": [
    "import pandas as pd\n",
    "import matplotlib.pyplot as plt\n",
    "\n",
    "%matplotlib inline"
   ]
  },
  {
   "cell_type": "code",
   "execution_count": null,
   "metadata": {},
   "outputs": [],
   "source": [
    "dailyWeatherDF = pd.read_json('../processed_data/dailyWeatherStatsF.json', orient='index')\n",
    "\n",
    "dailyWeatherDF.head()"
   ]
  },
  {
   "cell_type": "code",
   "execution_count": null,
   "metadata": {},
   "outputs": [],
   "source": [
    "min_temp = dailyWeatherDF.min().min() - 5\n",
    "max_temp = dailyWeatherDF.max().max() + 5\n",
    "line_width = 2.5\n",
    "fig, axes = plt.subplots(ncols=3, figsize=(30,10))\n",
    "\n",
    "\n",
    "dailyWeatherDF.plot(use_index=True, y='min', ax=axes[0], c='blue', legend=False, lw=line_width, ylim=(min_temp, max_temp));\n",
    "dailyWeatherDF.plot(use_index=True, y='avg', ax=axes[1], c='purple', legend=False, lw=line_width, ylim=(min_temp, max_temp));\n",
    "dailyWeatherDF.plot(use_index=True, y='max', ax=axes[2], c='red', legend=False, lw=line_width, ylim=(min_temp, max_temp));"
   ]
  }
 ],
 "metadata": {
  "language_info": {
   "codemirror_mode": {
    "name": "ipython",
    "version": 3
   },
   "file_extension": ".py",
   "mimetype": "text/x-python",
   "name": "python",
   "nbconvert_exporter": "python",
   "pygments_lexer": "ipython3",
   "version": 3
  },
  "orig_nbformat": 2
 },
 "nbformat": 4,
 "nbformat_minor": 2
}