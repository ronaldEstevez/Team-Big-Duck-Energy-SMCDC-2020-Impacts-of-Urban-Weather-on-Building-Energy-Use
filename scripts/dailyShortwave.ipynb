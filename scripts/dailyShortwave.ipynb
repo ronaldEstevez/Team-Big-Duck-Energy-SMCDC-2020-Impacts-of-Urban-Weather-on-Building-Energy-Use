{
 "cells": [
  {
   "cell_type": "code",
   "execution_count": 1,
   "metadata": {},
   "outputs": [],
   "source": [
    "from config import dailyShortWave\n",
    "from datetime import timedelta, date\n",
    "import fetch\n",
    "from keplergl import KeplerGl\n",
    "import pandas as pd"
   ]
  },
  {
   "cell_type": "code",
   "execution_count": 2,
   "metadata": {},
   "outputs": [],
   "source": [
    "var = 'Shortwave_Wm-2'"
   ]
  },
  {
   "cell_type": "code",
   "execution_count": 3,
   "metadata": {},
   "outputs": [
    {
     "output_type": "execute_result",
     "data": {
      "text/plain": "                   std            var         avg  min          max\n2015-06-16  402.406367  161930.883856  362.307954  0.0  1027.683838\n2015-07-02  400.192385  160153.945016  374.266359  0.0  1026.074097\n2015-06-02  398.309829  158650.719818  379.090998  0.0  1031.120605\n2015-06-06  396.630229  157315.538912  371.902459  0.0  1029.717529\n2015-05-13  392.626461  154155.537839  360.708983  0.0  1014.959534",
      "text/html": "<div>\n<style scoped>\n    .dataframe tbody tr th:only-of-type {\n        vertical-align: middle;\n    }\n\n    .dataframe tbody tr th {\n        vertical-align: top;\n    }\n\n    .dataframe thead th {\n        text-align: right;\n    }\n</style>\n<table border=\"1\" class=\"dataframe\">\n  <thead>\n    <tr style=\"text-align: right;\">\n      <th></th>\n      <th>std</th>\n      <th>var</th>\n      <th>avg</th>\n      <th>min</th>\n      <th>max</th>\n    </tr>\n  </thead>\n  <tbody>\n    <tr>\n      <th>2015-06-16</th>\n      <td>402.406367</td>\n      <td>161930.883856</td>\n      <td>362.307954</td>\n      <td>0.0</td>\n      <td>1027.683838</td>\n    </tr>\n    <tr>\n      <th>2015-07-02</th>\n      <td>400.192385</td>\n      <td>160153.945016</td>\n      <td>374.266359</td>\n      <td>0.0</td>\n      <td>1026.074097</td>\n    </tr>\n    <tr>\n      <th>2015-06-02</th>\n      <td>398.309829</td>\n      <td>158650.719818</td>\n      <td>379.090998</td>\n      <td>0.0</td>\n      <td>1031.120605</td>\n    </tr>\n    <tr>\n      <th>2015-06-06</th>\n      <td>396.630229</td>\n      <td>157315.538912</td>\n      <td>371.902459</td>\n      <td>0.0</td>\n      <td>1029.717529</td>\n    </tr>\n    <tr>\n      <th>2015-05-13</th>\n      <td>392.626461</td>\n      <td>154155.537839</td>\n      <td>360.708983</td>\n      <td>0.0</td>\n      <td>1014.959534</td>\n    </tr>\n  </tbody>\n</table>\n</div>"
     },
     "metadata": {},
     "execution_count": 3
    }
   ],
   "source": [
    "weatherStats = pd.read_json(f\"../processed_data/{var}_stats/{var[var.index('_')+1:]}.json\", orient='index')\n",
    "weatherStats.sort_values(by=['var'], ascending=False, inplace=True)\n",
    "\n",
    "weatherStats.head()"
   ]
  },
  {
   "cell_type": "code",
   "execution_count": 4,
   "metadata": {},
   "outputs": [],
   "source": [
    "def getDayMap(m,d):\n",
    "    df = fetch.get_weather(usecols=f'time,lat,lon,`{var}`', datetime=date(2015,m,d))\n",
    "    df['time'] = df['time'].apply(lambda x: pd.Timestamp(x[:10] + ' ' + x[11:]))\n",
    "\n",
    "    return KeplerGl(height=600,data={'day': df}, config=dailyShortWave)\n"
   ]
  },
  {
   "cell_type": "code",
   "execution_count": 5,
   "metadata": {
    "tags": []
   },
   "outputs": [
    {
     "output_type": "display_data",
     "data": {
      "text/plain": "KeplerGl(config={'version': 'v1', 'config': {'visState': {'filters': [{'dataId': ['day'], 'id': '2lwjzrusq', '…",
      "application/vnd.jupyter.widget-view+json": {
       "version_major": 2,
       "version_minor": 0,
       "model_id": "a321d246dfd04eac9810772e459876ab"
      }
     },
     "metadata": {}
    },
    {
     "output_type": "stream",
     "name": "stdout",
     "text": "User Guide: https://docs.kepler.gl/docs/keplergl-jupyter\n"
    }
   ],
   "source": [
    "jun16 = getDayMap(6,16)\n",
    "\n",
    "jun16"
   ]
  },
  {
   "cell_type": "code",
   "execution_count": 6,
   "metadata": {
    "tags": []
   },
   "outputs": [
    {
     "output_type": "stream",
     "name": "stdout",
     "text": "User Guide: https://docs.kepler.gl/docs/keplergl-jupyter\n"
    },
    {
     "output_type": "display_data",
     "data": {
      "text/plain": "KeplerGl(config={'version': 'v1', 'config': {'visState': {'filters': [{'dataId': ['day'], 'id': '2lwjzrusq', '…",
      "application/vnd.jupyter.widget-view+json": {
       "version_major": 2,
       "version_minor": 0,
       "model_id": "6aed89c3d2294f1298bc0071fc83ae73"
      }
     },
     "metadata": {}
    }
   ],
   "source": [
    "jul2 = getDayMap(7,2)\n",
    "\n",
    "jul2"
   ]
  },
  {
   "cell_type": "code",
   "execution_count": 7,
   "metadata": {
    "tags": []
   },
   "outputs": [
    {
     "output_type": "stream",
     "name": "stdout",
     "text": "User Guide: https://docs.kepler.gl/docs/keplergl-jupyter\n"
    },
    {
     "output_type": "display_data",
     "data": {
      "text/plain": "KeplerGl(config={'version': 'v1', 'config': {'visState': {'filters': [{'dataId': ['day'], 'id': '2lwjzrusq', '…",
      "application/vnd.jupyter.widget-view+json": {
       "version_major": 2,
       "version_minor": 0,
       "model_id": "5c421d104dcb4ea09b79a314b1f5dbb3"
      }
     },
     "metadata": {}
    }
   ],
   "source": [
    "jun2 = getDayMap(6,2)\n",
    "\n",
    "jun2"
   ]
  },
  {
   "cell_type": "code",
   "execution_count": 8,
   "metadata": {
    "tags": []
   },
   "outputs": [
    {
     "output_type": "stream",
     "name": "stdout",
     "text": "User Guide: https://docs.kepler.gl/docs/keplergl-jupyter\n"
    },
    {
     "output_type": "display_data",
     "data": {
      "text/plain": "KeplerGl(config={'version': 'v1', 'config': {'visState': {'filters': [{'dataId': ['day'], 'id': '2lwjzrusq', '…",
      "application/vnd.jupyter.widget-view+json": {
       "version_major": 2,
       "version_minor": 0,
       "model_id": "6bb98269ae394cab927912b0bd3b43f5"
      }
     },
     "metadata": {}
    }
   ],
   "source": [
    "jun6 = getDayMap(6,6)\n",
    "\n",
    "jun6"
   ]
  },
  {
   "cell_type": "code",
   "execution_count": 9,
   "metadata": {
    "tags": []
   },
   "outputs": [
    {
     "output_type": "stream",
     "name": "stdout",
     "text": "User Guide: https://docs.kepler.gl/docs/keplergl-jupyter\n"
    },
    {
     "output_type": "display_data",
     "data": {
      "text/plain": "KeplerGl(config={'version': 'v1', 'config': {'visState': {'filters': [{'dataId': ['day'], 'id': '2lwjzrusq', '…",
      "application/vnd.jupyter.widget-view+json": {
       "version_major": 2,
       "version_minor": 0,
       "model_id": "0ee03d20003f43efaf94d945630e5dab"
      }
     },
     "metadata": {}
    }
   ],
   "source": [
    "may13 = getDayMap(5,13)\n",
    "\n",
    "may13"
   ]
  }
 ],
 "metadata": {
  "language_info": {
   "codemirror_mode": {
    "name": "ipython",
    "version": 3
   },
   "file_extension": ".py",
   "mimetype": "text/x-python",
   "name": "python",
   "nbconvert_exporter": "python",
   "pygments_lexer": "ipython3",
   "version": "3.8.2-final"
  },
  "orig_nbformat": 2,
  "kernelspec": {
   "name": "python38264bitd8f3ef187eea49fdb788ec07ab3ef776",
   "display_name": "Python 3.8.2 64-bit"
  }
 },
 "nbformat": 4,
 "nbformat_minor": 2
}