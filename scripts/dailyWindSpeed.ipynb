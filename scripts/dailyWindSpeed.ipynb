{
 "cells": [
  {
   "cell_type": "code",
   "execution_count": 1,
   "metadata": {},
   "outputs": [],
   "source": [
    "from datetime import timedelta, date\n",
    "import fetch\n",
    "from keplergl import KeplerGl\n",
    "import pandas as pd\n",
    "import sqlite3"
   ]
  },
  {
   "cell_type": "code",
   "execution_count": 2,
   "metadata": {},
   "outputs": [],
   "source": [
    "def getMonth(curr_month):\n",
    "    month = fetch.get_weather(usecols='time,lat,lon,avg(`WindSpd_ms-1`)', datetime=date(2015,curr_month, 1),groupBy='lat,lon')\n",
    "    conn = sqlite3.connect('../database/database.db')\n",
    "    if curr_month == 12:\n",
    "        monthlen = (date(2016, 1, 1) - date(2015, curr_month, 1)).days - 1\n",
    "    else:\n",
    "        monthlen = (date(2015, curr_month + 1, 1) - date(2015, curr_month, 1)).days -1\n",
    "\n",
    "    for currDay in (date(2015,curr_month, 2) + timedelta(n) for n in range(monthlen)):\n",
    "        df = fetch.get_weather(usecols='time, lat, lon, avg(`WindSpd_ms-1`)', datetime=currDay, groupBy='lat, lon', conn=conn)\n",
    "        if not df.empty:\n",
    "            month = pd.concat([month, df], ignore_index=True)\n",
    "            \n",
    "    month['time'] = month['time'].apply(lambda x: pd.Timestamp(x[:10] + ' ' + x[11:]))\n",
    "\n",
    "    conn.close()\n",
    "\n",
    "    return month"
   ]
  },
  {
   "cell_type": "code",
   "execution_count": 3,
   "metadata": {},
   "outputs": [],
   "source": [
    "months = [None]\n",
    "\n",
    "for i in range(1, 13):\n",
    "    months.append(getMonth(i))"
   ]
  },
  {
   "cell_type": "code",
   "execution_count": 4,
   "metadata": {},
   "outputs": [],
   "source": [
    "%run config.py"
   ]
  },
  {
   "cell_type": "code",
   "execution_count": 5,
   "metadata": {
    "tags": []
   },
   "outputs": [
    {
     "output_type": "stream",
     "name": "stdout",
     "text": "User Guide: https://docs.kepler.gl/docs/keplergl-jupyter\n"
    },
    {
     "output_type": "display_data",
     "data": {
      "text/plain": "KeplerGl(config={'version': 'v1', 'config': {'visState': {'filters': [{'dataId': ['month'], 'id': 'nmadvrb4', …",
      "application/vnd.jupyter.widget-view+json": {
       "version_major": 2,
       "version_minor": 0,
       "model_id": "4117e955260a4bd390e51b53032501db"
      }
     },
     "metadata": {}
    }
   ],
   "source": [
    "monthlyMap = KeplerGl(height=600,data={'month': months[5]}, config=dailyAvgWindSpeed)\n",
    "\n",
    "monthlyMap"
   ]
  },
  {
   "cell_type": "code",
   "execution_count": 8,
   "metadata": {
    "tags": []
   },
   "outputs": [
    {
     "output_type": "stream",
     "name": "stdout",
     "text": "User Guide: https://docs.kepler.gl/docs/keplergl-jupyter\n"
    },
    {
     "output_type": "display_data",
     "data": {
      "text/plain": "KeplerGl(config={'version': 'v1', 'config': {'visState': {'filters': [{'dataId': ['day'], 'id': 'xmowh9a9w', '…",
      "application/vnd.jupyter.widget-view+json": {
       "version_major": 2,
       "version_minor": 0,
       "model_id": "0bc293c927c146f69f7a2cf3f3311321"
      }
     },
     "metadata": {}
    }
   ],
   "source": [
    "day = fetch.get_weather(usecols='time,lat,lon,`WindSpd_ms-1`', datetime=date(2015,10, 19))\n",
    "day['time'] = day['time'].apply(lambda x: pd.Timestamp(x[:10] + ' ' + x[11:]))\n",
    "\n",
    "dailyMap = KeplerGl(height=600,data={'day': day}, config=dailyWindSpeed)\n",
    "dailyMap"
   ]
  },
  {
   "cell_type": "code",
   "execution_count": null,
   "metadata": {},
   "outputs": [],
   "source": []
  }
 ],
 "metadata": {
  "language_info": {
   "codemirror_mode": {
    "name": "ipython",
    "version": 3
   },
   "file_extension": ".py",
   "mimetype": "text/x-python",
   "name": "python",
   "nbconvert_exporter": "python",
   "pygments_lexer": "ipython3",
   "version": "3.8.2-final"
  },
  "orig_nbformat": 2,
  "kernelspec": {
   "name": "python38264bitd8f3ef187eea49fdb788ec07ab3ef776",
   "display_name": "Python 3.8.2 64-bit"
  }
 },
 "nbformat": 4,
 "nbformat_minor": 2
}