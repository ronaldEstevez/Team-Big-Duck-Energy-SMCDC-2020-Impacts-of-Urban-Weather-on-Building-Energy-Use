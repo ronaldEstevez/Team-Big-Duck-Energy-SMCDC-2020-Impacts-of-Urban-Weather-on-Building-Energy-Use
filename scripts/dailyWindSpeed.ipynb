{
 "cells": [
  {
   "cell_type": "code",
   "execution_count": 1,
   "metadata": {},
   "outputs": [],
   "source": [
    "from config import dailyWindSpd\n",
    "from datetime import timedelta, date\n",
    "import fetch\n",
    "from keplergl import KeplerGl\n",
    "import pandas as pd"
   ]
  },
  {
   "cell_type": "code",
   "execution_count": 2,
   "metadata": {},
   "outputs": [],
   "source": [
    "var = 'WindSpd_ms-1'"
   ]
  },
  {
   "cell_type": "code",
   "execution_count": 3,
   "metadata": {},
   "outputs": [
    {
     "output_type": "execute_result",
     "data": {
      "text/plain": "                 std        var       avg       min        max\n2015-05-16  3.404772  11.592470  4.291796  0.018009  14.877535\n2015-05-17  3.341910  11.168364  7.866227  0.040861  13.271539\n2015-12-21  3.067762   9.411163  5.893002  0.008263  10.146753\n2015-10-20  3.004607   9.027661  5.868361  0.044869   9.336154\n2015-12-13  2.964082   8.785782  3.938772  0.003856   8.638919",
      "text/html": "<div>\n<style scoped>\n    .dataframe tbody tr th:only-of-type {\n        vertical-align: middle;\n    }\n\n    .dataframe tbody tr th {\n        vertical-align: top;\n    }\n\n    .dataframe thead th {\n        text-align: right;\n    }\n</style>\n<table border=\"1\" class=\"dataframe\">\n  <thead>\n    <tr style=\"text-align: right;\">\n      <th></th>\n      <th>std</th>\n      <th>var</th>\n      <th>avg</th>\n      <th>min</th>\n      <th>max</th>\n    </tr>\n  </thead>\n  <tbody>\n    <tr>\n      <th>2015-05-16</th>\n      <td>3.404772</td>\n      <td>11.592470</td>\n      <td>4.291796</td>\n      <td>0.018009</td>\n      <td>14.877535</td>\n    </tr>\n    <tr>\n      <th>2015-05-17</th>\n      <td>3.341910</td>\n      <td>11.168364</td>\n      <td>7.866227</td>\n      <td>0.040861</td>\n      <td>13.271539</td>\n    </tr>\n    <tr>\n      <th>2015-12-21</th>\n      <td>3.067762</td>\n      <td>9.411163</td>\n      <td>5.893002</td>\n      <td>0.008263</td>\n      <td>10.146753</td>\n    </tr>\n    <tr>\n      <th>2015-10-20</th>\n      <td>3.004607</td>\n      <td>9.027661</td>\n      <td>5.868361</td>\n      <td>0.044869</td>\n      <td>9.336154</td>\n    </tr>\n    <tr>\n      <th>2015-12-13</th>\n      <td>2.964082</td>\n      <td>8.785782</td>\n      <td>3.938772</td>\n      <td>0.003856</td>\n      <td>8.638919</td>\n    </tr>\n  </tbody>\n</table>\n</div>"
     },
     "metadata": {},
     "execution_count": 3
    }
   ],
   "source": [
    "weatherStats = pd.read_json(f\"../processed_data/{var}_stats/{var[var.index('_')+1:]}.json\", orient='index')\n",
    "weatherStats.sort_values(by=['var'], ascending=False, inplace=True)\n",
    "\n",
    "weatherStats.head()"
   ]
  },
  {
   "cell_type": "code",
   "execution_count": 4,
   "metadata": {},
   "outputs": [],
   "source": [
    "def getDayMap(m,d):\n",
    "    df = fetch.get_weather(usecols=f'time,lat,lon,`{var}`', datetime=date(2015,m,d))\n",
    "    df['time'] = df['time'].apply(lambda x: pd.Timestamp(x[:10] + ' ' + x[11:]))\n",
    "\n",
    "    return KeplerGl(height=600,data={'day': df}, config=dailyWindSpd)\n"
   ]
  },
  {
   "cell_type": "code",
   "execution_count": 5,
   "metadata": {
    "tags": []
   },
   "outputs": [
    {
     "output_type": "stream",
     "name": "stdout",
     "text": "User Guide: https://docs.kepler.gl/docs/keplergl-jupyter\n"
    },
    {
     "output_type": "display_data",
     "data": {
      "text/plain": "KeplerGl(config={'version': 'v1', 'config': {'visState': {'filters': [{'dataId': ['day'], 'id': 'xmowh9a9w', '…",
      "application/vnd.jupyter.widget-view+json": {
       "version_major": 2,
       "version_minor": 0,
       "model_id": "ee6fda662f334900999d381ef5c3caef"
      }
     },
     "metadata": {}
    }
   ],
   "source": [
    "may16 = getDayMap(5,16)\n",
    "\n",
    "may16"
   ]
  },
  {
   "cell_type": "code",
   "execution_count": 6,
   "metadata": {
    "tags": []
   },
   "outputs": [
    {
     "output_type": "stream",
     "name": "stdout",
     "text": "User Guide: https://docs.kepler.gl/docs/keplergl-jupyter\n"
    },
    {
     "output_type": "display_data",
     "data": {
      "text/plain": "KeplerGl(config={'version': 'v1', 'config': {'visState': {'filters': [{'dataId': ['day'], 'id': 'xmowh9a9w', '…",
      "application/vnd.jupyter.widget-view+json": {
       "version_major": 2,
       "version_minor": 0,
       "model_id": "d6ecb300b62d410b85321bc4fd034de7"
      }
     },
     "metadata": {}
    }
   ],
   "source": [
    "may17 = getDayMap(5,17)\n",
    "\n",
    "may17"
   ]
  },
  {
   "cell_type": "code",
   "execution_count": 7,
   "metadata": {
    "tags": []
   },
   "outputs": [
    {
     "output_type": "stream",
     "name": "stdout",
     "text": "User Guide: https://docs.kepler.gl/docs/keplergl-jupyter\n"
    },
    {
     "output_type": "display_data",
     "data": {
      "text/plain": "KeplerGl(config={'version': 'v1', 'config': {'visState': {'filters': [{'dataId': ['day'], 'id': 'xmowh9a9w', '…",
      "application/vnd.jupyter.widget-view+json": {
       "version_major": 2,
       "version_minor": 0,
       "model_id": "00b5040b8f054015a7b7b55c259ab1b1"
      }
     },
     "metadata": {}
    }
   ],
   "source": [
    "dec21 = getDayMap(12,21)\n",
    "\n",
    "dec21"
   ]
  },
  {
   "cell_type": "code",
   "execution_count": 8,
   "metadata": {
    "tags": []
   },
   "outputs": [
    {
     "output_type": "stream",
     "name": "stdout",
     "text": "User Guide: https://docs.kepler.gl/docs/keplergl-jupyter\n"
    },
    {
     "output_type": "display_data",
     "data": {
      "text/plain": "KeplerGl(config={'version': 'v1', 'config': {'visState': {'filters': [{'dataId': ['day'], 'id': 'xmowh9a9w', '…",
      "application/vnd.jupyter.widget-view+json": {
       "version_major": 2,
       "version_minor": 0,
       "model_id": "e979f52e9a93453086b6fb609dc83890"
      }
     },
     "metadata": {}
    }
   ],
   "source": [
    "# interesting graph\n",
    "\n",
    "oct20 = getDayMap(10,20)\n",
    "\n",
    "oct20"
   ]
  },
  {
   "cell_type": "code",
   "execution_count": 9,
   "metadata": {
    "tags": []
   },
   "outputs": [
    {
     "output_type": "stream",
     "name": "stdout",
     "text": "User Guide: https://docs.kepler.gl/docs/keplergl-jupyter\n"
    },
    {
     "output_type": "display_data",
     "data": {
      "text/plain": "KeplerGl(config={'version': 'v1', 'config': {'visState': {'filters': [{'dataId': ['day'], 'id': 'xmowh9a9w', '…",
      "application/vnd.jupyter.widget-view+json": {
       "version_major": 2,
       "version_minor": 0,
       "model_id": "e2e7db38493c4707986f3cfb50e033ac"
      }
     },
     "metadata": {}
    }
   ],
   "source": [
    "# also an interesting graph\n",
    "\n",
    "dec13 = getDayMap(12,13)\n",
    "\n",
    "dec13"
   ]
  }
 ],
 "metadata": {
  "language_info": {
   "codemirror_mode": {
    "name": "ipython",
    "version": 3
   },
   "file_extension": ".py",
   "mimetype": "text/x-python",
   "name": "python",
   "nbconvert_exporter": "python",
   "pygments_lexer": "ipython3",
   "version": "3.8.2-final"
  },
  "orig_nbformat": 2,
  "kernelspec": {
   "name": "python38264bitd8f3ef187eea49fdb788ec07ab3ef776",
   "display_name": "Python 3.8.2 64-bit"
  }
 },
 "nbformat": 4,
 "nbformat_minor": 2
}