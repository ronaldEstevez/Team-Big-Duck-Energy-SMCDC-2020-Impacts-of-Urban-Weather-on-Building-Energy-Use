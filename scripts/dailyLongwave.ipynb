{
 "cells": [
  {
   "cell_type": "code",
   "execution_count": 1,
   "metadata": {},
   "outputs": [],
   "source": [
    "from config import dailyLongWave\n",
    "from datetime import timedelta, date\n",
    "import fetch\n",
    "from keplergl import KeplerGl\n",
    "import pandas as pd"
   ]
  },
  {
   "cell_type": "code",
   "execution_count": 2,
   "metadata": {},
   "outputs": [],
   "source": [
    "var = 'Longwave_Wm-2'"
   ]
  },
  {
   "cell_type": "code",
   "execution_count": 3,
   "metadata": {},
   "outputs": [
    {
     "output_type": "execute_result",
     "data": {
      "text/plain": "                  std          var         avg         min         max\n2015-11-06  61.712559  3808.439917  326.631781  259.247070  406.751221\n2015-12-24  60.451384  3654.369873  313.118161  233.432587  380.946930\n2015-04-10  59.834038  3580.112163  317.495946  239.205215  421.298126\n2015-01-12  57.165218  3267.862179  250.884300  174.352554  312.063385\n2015-02-02  56.217192  3160.372639  226.176424  163.588303  295.109955",
      "text/html": "<div>\n<style scoped>\n    .dataframe tbody tr th:only-of-type {\n        vertical-align: middle;\n    }\n\n    .dataframe tbody tr th {\n        vertical-align: top;\n    }\n\n    .dataframe thead th {\n        text-align: right;\n    }\n</style>\n<table border=\"1\" class=\"dataframe\">\n  <thead>\n    <tr style=\"text-align: right;\">\n      <th></th>\n      <th>std</th>\n      <th>var</th>\n      <th>avg</th>\n      <th>min</th>\n      <th>max</th>\n    </tr>\n  </thead>\n  <tbody>\n    <tr>\n      <th>2015-11-06</th>\n      <td>61.712559</td>\n      <td>3808.439917</td>\n      <td>326.631781</td>\n      <td>259.247070</td>\n      <td>406.751221</td>\n    </tr>\n    <tr>\n      <th>2015-12-24</th>\n      <td>60.451384</td>\n      <td>3654.369873</td>\n      <td>313.118161</td>\n      <td>233.432587</td>\n      <td>380.946930</td>\n    </tr>\n    <tr>\n      <th>2015-04-10</th>\n      <td>59.834038</td>\n      <td>3580.112163</td>\n      <td>317.495946</td>\n      <td>239.205215</td>\n      <td>421.298126</td>\n    </tr>\n    <tr>\n      <th>2015-01-12</th>\n      <td>57.165218</td>\n      <td>3267.862179</td>\n      <td>250.884300</td>\n      <td>174.352554</td>\n      <td>312.063385</td>\n    </tr>\n    <tr>\n      <th>2015-02-02</th>\n      <td>56.217192</td>\n      <td>3160.372639</td>\n      <td>226.176424</td>\n      <td>163.588303</td>\n      <td>295.109955</td>\n    </tr>\n  </tbody>\n</table>\n</div>"
     },
     "metadata": {},
     "execution_count": 3
    }
   ],
   "source": [
    "weatherStats = pd.read_json(f\"../processed_data/{var}_stats/{var[var.index('_')+1:]}.json\", orient='index')\n",
    "weatherStats.sort_values(by=['var'], ascending=False, inplace=True)\n",
    "\n",
    "weatherStats.head()"
   ]
  },
  {
   "cell_type": "code",
   "execution_count": 10,
   "metadata": {},
   "outputs": [],
   "source": [
    "def getDayMap(m,d):\n",
    "    df = fetch.get_weather(usecols=f'time,lat,lon,`{var}`', datetime=date(2015,m,d))\n",
    "    df['time'] = df['time'].apply(lambda x: pd.Timestamp(x[:10] + ' ' + x[11:]))\n",
    "\n",
    "    return KeplerGl(height=600, data={'day': df}, config=dailyLongWave)\n"
   ]
  },
  {
   "cell_type": "code",
   "execution_count": 5,
   "metadata": {
    "tags": []
   },
   "outputs": [
    {
     "output_type": "display_data",
     "data": {
      "text/plain": "KeplerGl(config={'version': 'v1', 'config': {'visState': {'filters': [{'dataId': ['day'], 'id': 'joqqedg5b', '…",
      "application/vnd.jupyter.widget-view+json": {
       "version_major": 2,
       "version_minor": 0,
       "model_id": "fdc02761bfb84b51939aa394122d880f"
      }
     },
     "metadata": {}
    },
    {
     "output_type": "stream",
     "name": "stdout",
     "text": "User Guide: https://docs.kepler.gl/docs/keplergl-jupyter\n"
    }
   ],
   "source": [
    "# interesting\n",
    "nov6 = getDayMap(5,16)\n",
    "\n",
    "nov6"
   ]
  },
  {
   "cell_type": "code",
   "execution_count": 6,
   "metadata": {
    "tags": []
   },
   "outputs": [
    {
     "output_type": "stream",
     "name": "stdout",
     "text": "User Guide: https://docs.kepler.gl/docs/keplergl-jupyter\n"
    },
    {
     "output_type": "display_data",
     "data": {
      "text/plain": "KeplerGl(config={'version': 'v1', 'config': {'visState': {'filters': [{'dataId': ['day'], 'id': 'joqqedg5b', '…",
      "application/vnd.jupyter.widget-view+json": {
       "version_major": 2,
       "version_minor": 0,
       "model_id": "ac7eb4c34d3242a88cfb9c796dcb1dca"
      }
     },
     "metadata": {}
    }
   ],
   "source": [
    "dec24 = getDayMap(12,24)\n",
    "\n",
    "dec24"
   ]
  },
  {
   "cell_type": "code",
   "execution_count": 7,
   "metadata": {
    "tags": []
   },
   "outputs": [
    {
     "output_type": "stream",
     "name": "stdout",
     "text": "User Guide: https://docs.kepler.gl/docs/keplergl-jupyter\n"
    },
    {
     "output_type": "display_data",
     "data": {
      "text/plain": "KeplerGl(config={'version': 'v1', 'config': {'visState': {'filters': [{'dataId': ['day'], 'id': 'joqqedg5b', '…",
      "application/vnd.jupyter.widget-view+json": {
       "version_major": 2,
       "version_minor": 0,
       "model_id": "9c2cad869de64c0da64799d462540f88"
      }
     },
     "metadata": {}
    }
   ],
   "source": [
    "# interesting\n",
    "apr10 = getDayMap(4,10)\n",
    "\n",
    "apr10"
   ]
  },
  {
   "cell_type": "code",
   "execution_count": 11,
   "metadata": {
    "tags": []
   },
   "outputs": [
    {
     "output_type": "stream",
     "name": "stdout",
     "text": "User Guide: https://docs.kepler.gl/docs/keplergl-jupyter\n"
    },
    {
     "output_type": "display_data",
     "data": {
      "text/plain": "KeplerGl(config={'version': 'v1', 'config': {'visState': {'filters': [{'dataId': ['day'], 'id': 'joqqedg5b', '…",
      "application/vnd.jupyter.widget-view+json": {
       "version_major": 2,
       "version_minor": 0,
       "model_id": "dff8693423204f47a3999e1b76bacf77"
      }
     },
     "metadata": {}
    }
   ],
   "source": [
    "jan12 = getDayMap(1,12)\n",
    "\n",
    "jan12"
   ]
  },
  {
   "cell_type": "code",
   "execution_count": 9,
   "metadata": {
    "tags": []
   },
   "outputs": [
    {
     "output_type": "stream",
     "name": "stdout",
     "text": "User Guide: https://docs.kepler.gl/docs/keplergl-jupyter\n"
    },
    {
     "output_type": "display_data",
     "data": {
      "text/plain": "KeplerGl(config={'version': 'v1', 'config': {'visState': {'filters': [{'dataId': ['day'], 'id': 'joqqedg5b', '…",
      "application/vnd.jupyter.widget-view+json": {
       "version_major": 2,
       "version_minor": 0,
       "model_id": "85e49338b58141ca916227776550200d"
      }
     },
     "metadata": {}
    }
   ],
   "source": [
    "# somewhat interesting I guess\n",
    "feb2 = getDayMap(2,2)\n",
    "\n",
    "feb2"
   ]
  }
 ],
 "metadata": {
  "language_info": {
   "codemirror_mode": {
    "name": "ipython",
    "version": 3
   },
   "file_extension": ".py",
   "mimetype": "text/x-python",
   "name": "python",
   "nbconvert_exporter": "python",
   "pygments_lexer": "ipython3",
   "version": "3.8.2-final"
  },
  "orig_nbformat": 2,
  "kernelspec": {
   "name": "python38264bitd8f3ef187eea49fdb788ec07ab3ef776",
   "display_name": "Python 3.8.2 64-bit"
  }
 },
 "nbformat": 4,
 "nbformat_minor": 2
}